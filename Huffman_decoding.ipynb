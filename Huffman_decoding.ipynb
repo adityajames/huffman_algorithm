{
 "cells": [
  {
   "cell_type": "markdown",
   "metadata": {},
   "source": [
    "# **Huffman decoding** \n"
   ]
  },
  {
   "cell_type": "code",
   "execution_count": 11,
   "metadata": {},
   "outputs": [],
   "source": [
    "final_code_table={'B': '00111111100', 'D': '00111111101', 'H': '11001111000', 'K': '11001111001', 'M': '11001111010', 'Y': '11001111011', 'j': '0011111100', '!': '0011111101', 'E': '0011111111', 'W': '001100000', 'x': '001100001', ':': '001100010', 'T': '001100011', 'O': '110011111', ';': '00111110', '-': '11001110', 'A': '0000100', \"'\": '0000101', 'p': '0011001', 'v': '0011110', 'I': '1100110', 'k': '1111110', 'b': '1111111', ',': '000011', 'g': '001101', 'm': '001110', 'w': '101010', 'c': '101011', 'f': '110010', '\\n': '111110', 'l': '00000', 'y': '00100', 'd': '00101', 'h': '10100', 's': '11000', 'u': '11100', 'i': '11101', 'r': '11110', 'a': '0001', 'e': '1000', 't': '1001', 'n': '1011', 'o': '1101', ' ': '01'}"
   ]
  },
  {
   "cell_type": "markdown",
   "metadata": {},
   "source": [
    "#### Driver file for finding the length of the array that will hold the codes for decoding exercise"
   ]
  },
  {
   "cell_type": "code",
   "execution_count": 12,
   "metadata": {},
   "outputs": [],
   "source": [
    "def find_len(final_code_table):\n",
    "    pairs_val_codes=[]\n",
    "    for i,j in final_code_table.items():\n",
    "        pair=(i,j,len(j))\n",
    "        pairs_val_codes.append(pair)\n",
    "\n",
    "    pairs_val_codes.sort(key=lambda tup: tup[2], reverse=True)\n",
    "    largest_binary=pairs_val_codes[0][2]\n",
    "    len_array=0\n",
    "    max_len_array=0\n",
    "    for i in pairs_val_codes:\n",
    "        if pairs_val_codes[0][2]<largest_binary:\n",
    "            break\n",
    "        bin_seq=list(i[1])\n",
    "        parent=0\n",
    "        for j in bin_seq:\n",
    "            x=int(j)\n",
    "            if x==0:\n",
    "                child=(2*parent)+1\n",
    "            else:\n",
    "                child=(2*parent)+2\n",
    "            parent=child\n",
    "            \n",
    "        if child>max_len_array:\n",
    "            max_len_array=child\n",
    "\n",
    "    coded_array=[None for i in range(0,max_len_array+1)]\n",
    "    return(coded_array,pairs_val_codes)"
   ]
  },
  {
   "cell_type": "markdown",
   "metadata": {},
   "source": [
    "##### Driver file for creating the array with the codes for decoding exercise"
   ]
  },
  {
   "cell_type": "code",
   "execution_count": 13,
   "metadata": {},
   "outputs": [],
   "source": [
    "def array_of_codes(pairs_val_codes,coded_array):\n",
    "    \n",
    "    for i in pairs_val_codes:\n",
    "        bin_seq=list(i[1])\n",
    "        parent=0\n",
    "        for j in range(0,len(bin_seq)):\n",
    "            x=int(bin_seq[j])\n",
    "            if x==0:\n",
    "                child=(2*parent)+1\n",
    "            else:\n",
    "                child=(2*parent)+2\n",
    "            parent=child\n",
    "        coded_array[parent]=i[0]\n",
    "\n",
    "    return(coded_array)"
   ]
  },
  {
   "cell_type": "markdown",
   "metadata": {},
   "source": [
    "##### **MASTER FUNCTION FOR DECODING THE HUFFMAN CODED FILE** "
   ]
  },
  {
   "cell_type": "code",
   "execution_count": 14,
   "metadata": {},
   "outputs": [],
   "source": [
    "def decode_huffman(filename,final_code_table):\n",
    "\n",
    "    coded_array,pairs_val_codes=find_len(final_code_table)\n",
    "    coded_array=array_of_codes(pairs_val_codes,coded_array)\n",
    "    \n",
    "    coded_file = open(filename, \"r\")\n",
    "\n",
    "    #read whole file to a string\n",
    "    x = coded_file.read()\n",
    "    # x=coded_str\n",
    "    final_str=\"\"\n",
    "    parent=0\n",
    "    code_what=''\n",
    "    for i in range(0,len(x)):\n",
    "        # print(\"parent=\",parent)\n",
    "        code=int(x[i])\n",
    "        code_what+=str(code)\n",
    "        # print(\"code=\",code)\n",
    "        if code==0:\n",
    "            child=(2*parent)+1\n",
    "        else:\n",
    "            child=(2*parent)+2\n",
    "        # print(\"child=\",child)    \n",
    "        if type(coded_array[child])!=type(None):\n",
    "            \n",
    "            final_str+=coded_array[child]\n",
    "            parent=0\n",
    "            # print(\"code=\",code_what)\n",
    "            # print(\"string=\",coded_array[child])\n",
    "            code_what=''\n",
    "        else:\n",
    "            parent=child\n",
    "        # print(\"-\"*50)\n",
    "\n",
    "    return(final_str)\n",
    "\n",
    "\n",
    "\n"
   ]
  },
  {
   "cell_type": "code",
   "execution_count": 15,
   "metadata": {},
   "outputs": [
    {
     "data": {
      "text/plain": [
       "\"If you can keep your head when all about you   \\n    Are losing theirs and blaming it on you,   \\nIf you can trust yourself when all men doubt you,\\n    But make allowance for their doubting too;   \\nIf you can wait and not be tired by waiting,\\n    Or being lied about, don't deal in lies,\\nOr being hated, don't give way to hating,\\n    And yet don't look too good, nor talk too wise:\\n\\nIf you can dream-and not make dreams your master;   \\n    If you can think-and not make thoughts your aim;   \\nIf you can meet with Triumph and Disaster\\n    And treat those two impostors just the same;   \\nIf you can bear to hear the truth you've spoken\\n    Twisted by knaves to make a trap for fools,\\nOr watch the things you gave your life to, broken,\\n    And stoop and build 'em up with worn-out tools:\\n\\nIf you can make one heap of all your winnings\\n    And risk it on one turn of pitch-and-toss,\\nAnd lose, and start again at your beginnings\\n    And never breathe a word about your loss;\\nIf you can force your heart and nerve and sinew\\n    To serve your turn long after they are gone,   \\nAnd so hold on when there is nothing in you\\n    Except the Will which says to them: 'Hold on!'\\n\\nIf you can talk with crowds and keep your virtue,   \\n    Or walk with Kings-nor lose the common touch,\\nIf neither foes nor loving friends can hurt you,\\n    If all men count with you, but none too much;\\nIf you can fill the unforgiving minute\\n    With sixty seconds' worth of distance run,   \\nYours is the Earth and everything that's in it,   \\n    And-which is more-you'll be a Man, my son!\""
      ]
     },
     "execution_count": 15,
     "metadata": {},
     "output_type": "execute_result"
    }
   ],
   "source": [
    "decode_huffman('output.txt',final_code_table)"
   ]
  },
  {
   "cell_type": "code",
   "execution_count": null,
   "metadata": {},
   "outputs": [],
   "source": []
  }
 ],
 "metadata": {
  "kernelspec": {
   "display_name": "Python 3.9.6 64-bit",
   "language": "python",
   "name": "python3"
  },
  "language_info": {
   "codemirror_mode": {
    "name": "ipython",
    "version": 3
   },
   "file_extension": ".py",
   "mimetype": "text/x-python",
   "name": "python",
   "nbconvert_exporter": "python",
   "pygments_lexer": "ipython3",
   "version": "3.9.6"
  },
  "orig_nbformat": 4,
  "vscode": {
   "interpreter": {
    "hash": "e3b5fbd04f68e2b0d30e8aa6dfd8616d885f307650246806c8ef721be6274b54"
   }
  }
 },
 "nbformat": 4,
 "nbformat_minor": 2
}
